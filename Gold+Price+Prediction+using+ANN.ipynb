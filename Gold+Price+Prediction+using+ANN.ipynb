{
 "cells": [
  {
   "cell_type": "markdown",
   "id": "a0b5687c",
   "metadata": {},
   "source": [
    "# Gold Price Prediction using ANN"
   ]
  },
  {
   "cell_type": "code",
   "execution_count": 1,
   "id": "experienced-physiology",
   "metadata": {},
   "outputs": [],
   "source": [
    "#Importing required libraries\n",
    "import pandas as pd\n",
    "import numpy as np\n",
    "from sklearn.model_selection import train_test_split\n",
    "from sklearn.preprocessing import StandardScaler\n",
    "from sklearn.preprocessing import MinMaxScaler"
   ]
  },
  {
   "cell_type": "code",
   "execution_count": 2,
   "id": "major-married",
   "metadata": {},
   "outputs": [],
   "source": [
    "import tensorflow as tf\n",
    "from tensorflow import keras\n",
    "from tensorflow.keras import Sequential\n",
    "from tensorflow.keras.layers import Dense"
   ]
  },
  {
   "cell_type": "code",
   "execution_count": 3,
   "id": "valued-devon",
   "metadata": {},
   "outputs": [],
   "source": [
    "#Loading the data into workspace\n",
    "df = pd.read_csv(\"gld_price_data.csv\")"
   ]
  },
  {
   "cell_type": "code",
   "execution_count": 4,
   "id": "northern-drunk",
   "metadata": {},
   "outputs": [
    {
     "data": {
      "text/html": [
       "<div>\n",
       "<style scoped>\n",
       "    .dataframe tbody tr th:only-of-type {\n",
       "        vertical-align: middle;\n",
       "    }\n",
       "\n",
       "    .dataframe tbody tr th {\n",
       "        vertical-align: top;\n",
       "    }\n",
       "\n",
       "    .dataframe thead th {\n",
       "        text-align: right;\n",
       "    }\n",
       "</style>\n",
       "<table border=\"1\" class=\"dataframe\">\n",
       "  <thead>\n",
       "    <tr style=\"text-align: right;\">\n",
       "      <th></th>\n",
       "      <th>Date</th>\n",
       "      <th>SPX</th>\n",
       "      <th>GLD</th>\n",
       "      <th>USO</th>\n",
       "      <th>SLV</th>\n",
       "      <th>EUR/USD</th>\n",
       "    </tr>\n",
       "  </thead>\n",
       "  <tbody>\n",
       "    <tr>\n",
       "      <th>0</th>\n",
       "      <td>01/02/08</td>\n",
       "      <td>1447.160034</td>\n",
       "      <td>84.860001</td>\n",
       "      <td>78.470001</td>\n",
       "      <td>15.180</td>\n",
       "      <td>1.471692</td>\n",
       "    </tr>\n",
       "    <tr>\n",
       "      <th>1</th>\n",
       "      <td>01/03/08</td>\n",
       "      <td>1447.160034</td>\n",
       "      <td>85.570000</td>\n",
       "      <td>78.370003</td>\n",
       "      <td>15.285</td>\n",
       "      <td>1.474491</td>\n",
       "    </tr>\n",
       "    <tr>\n",
       "      <th>2</th>\n",
       "      <td>01/04/08</td>\n",
       "      <td>1411.630005</td>\n",
       "      <td>85.129997</td>\n",
       "      <td>77.309998</td>\n",
       "      <td>15.167</td>\n",
       "      <td>1.475492</td>\n",
       "    </tr>\n",
       "    <tr>\n",
       "      <th>3</th>\n",
       "      <td>01/07/08</td>\n",
       "      <td>1416.180054</td>\n",
       "      <td>84.769997</td>\n",
       "      <td>75.500000</td>\n",
       "      <td>15.053</td>\n",
       "      <td>1.468299</td>\n",
       "    </tr>\n",
       "    <tr>\n",
       "      <th>4</th>\n",
       "      <td>01/08/08</td>\n",
       "      <td>1390.189941</td>\n",
       "      <td>86.779999</td>\n",
       "      <td>76.059998</td>\n",
       "      <td>15.590</td>\n",
       "      <td>1.557099</td>\n",
       "    </tr>\n",
       "  </tbody>\n",
       "</table>\n",
       "</div>"
      ],
      "text/plain": [
       "       Date          SPX        GLD        USO     SLV   EUR/USD\n",
       "0  01/02/08  1447.160034  84.860001  78.470001  15.180  1.471692\n",
       "1  01/03/08  1447.160034  85.570000  78.370003  15.285  1.474491\n",
       "2  01/04/08  1411.630005  85.129997  77.309998  15.167  1.475492\n",
       "3  01/07/08  1416.180054  84.769997  75.500000  15.053  1.468299\n",
       "4  01/08/08  1390.189941  86.779999  76.059998  15.590  1.557099"
      ]
     },
     "execution_count": 4,
     "metadata": {},
     "output_type": "execute_result"
    }
   ],
   "source": [
    "df.head()"
   ]
  },
  {
   "cell_type": "code",
   "execution_count": 5,
   "id": "twelve-hotel",
   "metadata": {},
   "outputs": [],
   "source": [
    "X = df[['SPX','USO','SLV','EUR/USD']]\n",
    "y = df['GLD']"
   ]
  },
  {
   "cell_type": "code",
   "execution_count": 6,
   "id": "correct-county",
   "metadata": {},
   "outputs": [],
   "source": [
    "X_train,X_test,y_train,y_test = train_test_split(X,y,test_size=0.2)"
   ]
  },
  {
   "cell_type": "code",
   "execution_count": 7,
   "id": "wanted-mistress",
   "metadata": {},
   "outputs": [],
   "source": [
    "scaler = MinMaxScaler()"
   ]
  },
  {
   "cell_type": "code",
   "execution_count": 8,
   "id": "irish-corpus",
   "metadata": {},
   "outputs": [],
   "source": [
    "X_train_scaled = scaler.fit_transform(X_train)\n",
    "X_test_scaled = scaler.transform(X_test)"
   ]
  },
  {
   "cell_type": "code",
   "execution_count": 9,
   "id": "loose-backing",
   "metadata": {},
   "outputs": [],
   "source": [
    "model = Sequential()"
   ]
  },
  {
   "cell_type": "code",
   "execution_count": 10,
   "id": "burning-mayor",
   "metadata": {},
   "outputs": [],
   "source": [
    "model.add(Dense(10,activation='relu',input_dim=4))\n",
    "model.add(Dense(10,activation='relu'))\n",
    "model.add(Dense(1,activation='linear'))"
   ]
  },
  {
   "cell_type": "code",
   "execution_count": 11,
   "id": "complicated-profit",
   "metadata": {},
   "outputs": [],
   "source": [
    "model.compile(loss=\"mean_squared_error\",optimizer='Adam')"
   ]
  },
  {
   "cell_type": "code",
   "execution_count": 12,
   "id": "corresponding-marine",
   "metadata": {},
   "outputs": [
    {
     "name": "stdout",
     "output_type": "stream",
     "text": [
      "Epoch 1/50\n",
      "52/52 [==============================] - 2s 12ms/step - loss: 15444.0781 - val_loss: 15683.8848\n",
      "Epoch 2/50\n",
      "52/52 [==============================] - 0s 3ms/step - loss: 15211.8613 - val_loss: 15312.4512\n",
      "Epoch 3/50\n",
      "52/52 [==============================] - 0s 3ms/step - loss: 14652.8984 - val_loss: 14482.4170\n",
      "Epoch 4/50\n",
      "52/52 [==============================] - 0s 3ms/step - loss: 13541.9404 - val_loss: 13012.4199\n",
      "Epoch 5/50\n",
      "52/52 [==============================] - 0s 3ms/step - loss: 11777.3760 - val_loss: 10839.2295\n",
      "Epoch 6/50\n",
      "52/52 [==============================] - 0s 3ms/step - loss: 9389.9287 - val_loss: 8185.4756\n",
      "Epoch 7/50\n",
      "52/52 [==============================] - 0s 3ms/step - loss: 6723.2607 - val_loss: 5490.7861\n",
      "Epoch 8/50\n",
      "52/52 [==============================] - 0s 4ms/step - loss: 4247.6523 - val_loss: 3260.4216\n",
      "Epoch 9/50\n",
      "52/52 [==============================] - 0s 5ms/step - loss: 2384.9006 - val_loss: 1802.4166\n",
      "Epoch 10/50\n",
      "52/52 [==============================] - 0s 3ms/step - loss: 1299.6417 - val_loss: 1086.8527\n",
      "Epoch 11/50\n",
      "52/52 [==============================] - 0s 4ms/step - loss: 827.6878 - val_loss: 835.7053\n",
      "Epoch 12/50\n",
      "52/52 [==============================] - 0s 4ms/step - loss: 665.7752 - val_loss: 759.4194\n",
      "Epoch 13/50\n",
      "52/52 [==============================] - 0s 4ms/step - loss: 611.9318 - val_loss: 725.3438\n",
      "Epoch 14/50\n",
      "52/52 [==============================] - 0s 4ms/step - loss: 583.3736 - val_loss: 697.6818\n",
      "Epoch 15/50\n",
      "52/52 [==============================] - 0s 3ms/step - loss: 559.1391 - val_loss: 671.8386\n",
      "Epoch 16/50\n",
      "52/52 [==============================] - 0s 5ms/step - loss: 536.5646 - val_loss: 645.9340\n",
      "Epoch 17/50\n",
      "52/52 [==============================] - 0s 3ms/step - loss: 514.6059 - val_loss: 619.9253\n",
      "Epoch 18/50\n",
      "52/52 [==============================] - 0s 3ms/step - loss: 493.7692 - val_loss: 595.0790\n",
      "Epoch 19/50\n",
      "52/52 [==============================] - 0s 3ms/step - loss: 473.7470 - val_loss: 572.3925\n",
      "Epoch 20/50\n",
      "52/52 [==============================] - 0s 3ms/step - loss: 453.9638 - val_loss: 548.7350\n",
      "Epoch 21/50\n",
      "52/52 [==============================] - 0s 3ms/step - loss: 434.9466 - val_loss: 525.7912\n",
      "Epoch 22/50\n",
      "52/52 [==============================] - 0s 4ms/step - loss: 417.1898 - val_loss: 505.3800\n",
      "Epoch 23/50\n",
      "52/52 [==============================] - 0s 3ms/step - loss: 400.2829 - val_loss: 484.9120\n",
      "Epoch 24/50\n",
      "52/52 [==============================] - 0s 3ms/step - loss: 383.7862 - val_loss: 465.5926\n",
      "Epoch 25/50\n",
      "52/52 [==============================] - 0s 3ms/step - loss: 368.2714 - val_loss: 446.7881\n",
      "Epoch 26/50\n",
      "52/52 [==============================] - 0s 3ms/step - loss: 353.5627 - val_loss: 428.8058\n",
      "Epoch 27/50\n",
      "52/52 [==============================] - 0s 4ms/step - loss: 339.4146 - val_loss: 412.7548\n",
      "Epoch 28/50\n",
      "52/52 [==============================] - 0s 4ms/step - loss: 325.6588 - val_loss: 396.1399\n",
      "Epoch 29/50\n",
      "52/52 [==============================] - 0s 4ms/step - loss: 312.5689 - val_loss: 380.0955\n",
      "Epoch 30/50\n",
      "52/52 [==============================] - 0s 4ms/step - loss: 300.2832 - val_loss: 364.5854\n",
      "Epoch 31/50\n",
      "52/52 [==============================] - 0s 4ms/step - loss: 288.4689 - val_loss: 350.5863\n",
      "Epoch 32/50\n",
      "52/52 [==============================] - 0s 4ms/step - loss: 277.3147 - val_loss: 337.0120\n",
      "Epoch 33/50\n",
      "52/52 [==============================] - 0s 4ms/step - loss: 267.1991 - val_loss: 323.9744\n",
      "Epoch 34/50\n",
      "52/52 [==============================] - 0s 5ms/step - loss: 256.6291 - val_loss: 311.2155\n",
      "Epoch 35/50\n",
      "52/52 [==============================] - 0s 4ms/step - loss: 246.9007 - val_loss: 298.9463\n",
      "Epoch 36/50\n",
      "52/52 [==============================] - 0s 3ms/step - loss: 237.4063 - val_loss: 287.1887\n",
      "Epoch 37/50\n",
      "52/52 [==============================] - 0s 3ms/step - loss: 228.2964 - val_loss: 275.8359\n",
      "Epoch 38/50\n",
      "52/52 [==============================] - 0s 3ms/step - loss: 219.5877 - val_loss: 265.1612\n",
      "Epoch 39/50\n",
      "52/52 [==============================] - 0s 4ms/step - loss: 211.5214 - val_loss: 255.0090\n",
      "Epoch 40/50\n",
      "52/52 [==============================] - 0s 3ms/step - loss: 203.2558 - val_loss: 245.2521\n",
      "Epoch 41/50\n",
      "52/52 [==============================] - 0s 3ms/step - loss: 195.6884 - val_loss: 235.5783\n",
      "Epoch 42/50\n",
      "52/52 [==============================] - 0s 3ms/step - loss: 188.3567 - val_loss: 226.5085\n",
      "Epoch 43/50\n",
      "52/52 [==============================] - 0s 3ms/step - loss: 181.3622 - val_loss: 217.8671\n",
      "Epoch 44/50\n",
      "52/52 [==============================] - 0s 3ms/step - loss: 174.5409 - val_loss: 209.5926\n",
      "Epoch 45/50\n",
      "52/52 [==============================] - 0s 3ms/step - loss: 168.2777 - val_loss: 201.7031\n",
      "Epoch 46/50\n",
      "52/52 [==============================] - 0s 3ms/step - loss: 161.9794 - val_loss: 194.1445\n",
      "Epoch 47/50\n",
      "52/52 [==============================] - 0s 3ms/step - loss: 155.8597 - val_loss: 186.9860\n",
      "Epoch 48/50\n",
      "52/52 [==============================] - 0s 3ms/step - loss: 150.2521 - val_loss: 179.6427\n",
      "Epoch 49/50\n",
      "52/52 [==============================] - 0s 3ms/step - loss: 144.7446 - val_loss: 173.6940\n",
      "Epoch 50/50\n",
      "52/52 [==============================] - 0s 4ms/step - loss: 139.5790 - val_loss: 167.0841\n"
     ]
    }
   ],
   "source": [
    "history = model.fit(X_train_scaled,y_train,epochs=50,validation_split=0.1)"
   ]
  },
  {
   "cell_type": "code",
   "execution_count": 13,
   "id": "natural-packet",
   "metadata": {},
   "outputs": [],
   "source": [
    "y_pred = model.predict(X_test_scaled)"
   ]
  },
  {
   "cell_type": "code",
   "execution_count": 14,
   "id": "moral-begin",
   "metadata": {},
   "outputs": [],
   "source": [
    "from sklearn.metrics import r2_score"
   ]
  },
  {
   "cell_type": "code",
   "execution_count": 15,
   "id": "agricultural-apartment",
   "metadata": {},
   "outputs": [
    {
     "data": {
      "text/plain": [
       "0.7313935191562377"
      ]
     },
     "execution_count": 15,
     "metadata": {},
     "output_type": "execute_result"
    }
   ],
   "source": [
    "r2_score(y_test,y_pred)"
   ]
  }
 ],
 "metadata": {
  "kernelspec": {
   "display_name": "Python 3",
   "language": "python",
   "name": "python3"
  },
  "language_info": {
   "codemirror_mode": {
    "name": "ipython",
    "version": 3
   },
   "file_extension": ".py",
   "mimetype": "text/x-python",
   "name": "python",
   "nbconvert_exporter": "python",
   "pygments_lexer": "ipython3",
   "version": "3.8.8"
  }
 },
 "nbformat": 4,
 "nbformat_minor": 5
}
